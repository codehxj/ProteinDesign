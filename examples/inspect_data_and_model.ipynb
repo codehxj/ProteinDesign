{
 "cells": [
  {
   "cell_type": "code",
   "execution_count": 45,
   "metadata": {},
   "outputs": [
    {
     "name": "stdout",
     "output_type": "stream",
     "text": [
      "The autoreload extension is already loaded. To reload it, use:\n",
      "  %reload_ext autoreload\n"
     ]
    }
   ],
   "source": [
    "%load_ext autoreload\n",
    "%autoreload 2"
   ]
  },
  {
   "cell_type": "markdown",
   "metadata": {},
   "source": [
    "## Load and process a single-chain or multi-chain protein from a PDB file"
   ]
  },
  {
   "cell_type": "code",
   "execution_count": 46,
   "metadata": {},
   "outputs": [],
   "source": [
    "from byprot.datamodules.datasets import DataProcessor"
   ]
  },
  {
   "cell_type": "code",
   "execution_count": 58,
   "metadata": {},
   "outputs": [],
   "source": [
    "pdb_path = \"/root/research/projects/ByProt_public/examples/3f4m.pdb\"\n",
    "pdb_path = \"/root/research/projects/ByProt_public/examples/3uat.pdb\""
   ]
  },
  {
   "cell_type": "code",
   "execution_count": 67,
   "metadata": {},
   "outputs": [],
   "source": [
    "dp = DataProcessor()\n",
    "structure = dp.parse_PDB(\n",
    "    pdb_path,\n",
    "    # input_chain_list=['A', 'B'] -> load which chains\n",
    "    # masked_chain_list=['A']     -> which chains to predict while the remaining chains serve as conditioning\n",
    ")"
   ]
  },
  {
   "cell_type": "code",
   "execution_count": 66,
   "metadata": {},
   "outputs": [
    {
     "name": "stdout",
     "output_type": "stream",
     "text": [
      "dict_keys(['seq_chain_A', 'coords_chain_A', 'seq_chain_B', 'coords_chain_B', 'name', 'num_of_chains', 'seq', 'coords', 'masked_list', 'visible_list'])\n"
     ]
    }
   ],
   "source": [
    "print(structure.keys())\n",
    "print(structure)"
   ]
  },
  {
   "cell_type": "markdown",
   "metadata": {},
   "source": [
    "#### single-chain protein "
   ]
  },
  {
   "cell_type": "code",
   "execution_count": null,
   "metadata": {},
   "outputs": [],
   "source": [
    "from byprot.datamodules.datasets.data_utils import Alphabet\n",
    "alphabet = Alphabet('esm', 'cath')\n",
    "alphabet.featurize([structure])"
   ]
  },
  {
   "cell_type": "markdown",
   "metadata": {},
   "source": [
    "#### multi-chain protein"
   ]
  },
  {
   "cell_type": "code",
   "execution_count": null,
   "metadata": {},
   "outputs": [],
   "source": [
    "alphabet = Alphabet('esm', 'multichain')\n",
    "alphabet.featurize([structure])"
   ]
  },
  {
   "cell_type": "markdown",
   "metadata": {},
   "source": [
    "## Design sequences for structures"
   ]
  },
  {
   "cell_type": "code",
   "execution_count": null,
   "metadata": {},
   "outputs": [],
   "source": [
    "from byprot.utils.config import compose_config as Cfg\n",
    "from byprot.tasks.fixedbb.designer import Designer\n",
    "\n",
    "# 1. instantialize designer\n",
    "cfg = Cfg(\n",
    "    cuda=True,\n",
    "    generator=Cfg(\n",
    "        max_iter=5,\n",
    "        strategy='denoise',\n",
    "        temperature=0,\n",
    "        eval_sc=False,\n",
    "    )\n",
    ")\n",
    "exp_path = \"/root/research/projects/ByProt_public/logs/cath4.2/lm_design_esm2_650m\"\n",
    "designer_cath = Designer(experiment_path=exp_path, cfg=cfg)\n",
    "\n",
    "exp_path = \"/root/research/projects/ByProt_public/logs/fixedbb_multichain/lm_design_esm2_650m\"\n",
    "designer_complex = Designer(experiment_path=exp_path, cfg=cfg)"
   ]
  },
  {
   "cell_type": "code",
   "execution_count": null,
   "metadata": {},
   "outputs": [],
   "source": [
    "# multi-chain complex\n",
    "pdb_path = \"/root/research/projects/ByProt_public/examples/3uat.pdb\"\n",
    "\n",
    "print(f\"designed by cath-trained LM-Design\")\n",
    "designer_cath.set_structure(pdb_path)\n",
    "print(designer_cath.generate()[0]); designer_cath.calculate_metrics()\n",
    "\n",
    "print(f\"designed by pdb complex-trained LM-Design\")\n",
    "designer_complex.set_structure(\n",
    "    pdb_path\n",
    "    # chain_list=['A', 'B'] -> load which chains\n",
    "    # masked_chain_list=['A'] -> which chains to predict while the remaining chains serve as conditioning\n",
    ")\n",
    "print(designer_complex.generate()[0]); designer_complex.calculate_metrics()"
   ]
  },
  {
   "cell_type": "code",
   "execution_count": null,
   "metadata": {},
   "outputs": [],
   "source": [
    "# single chain\n",
    "pdb_path = \"/root/research/projects/ByProt_public/examples/3f4m.pdb\"\n",
    "\n",
    "print(f\"designed by cath-trained LM-Design\")\n",
    "designer_cath.set_structure(pdb_path)\n",
    "print(designer_cath.generate()[0]); designer_cath.calculate_metrics()\n",
    "\n",
    "print(f\"designed by pdb complex-trained LM-Design\")\n",
    "designer_complex.set_structure(pdb_path)\n",
    "print(designer_complex.generate()[0]); designer_complex.calculate_metrics()"
   ]
  }
 ],
 "metadata": {
  "kernelspec": {
   "display_name": "ByProt_public",
   "language": "python",
   "name": "python3"
  },
  "language_info": {
   "codemirror_mode": {
    "name": "ipython",
    "version": 3
   },
   "file_extension": ".py",
   "mimetype": "text/x-python",
   "name": "python",
   "nbconvert_exporter": "python",
   "pygments_lexer": "ipython3",
   "version": "3.7.16"
  }
 },
 "nbformat": 4,
 "nbformat_minor": 2
}
